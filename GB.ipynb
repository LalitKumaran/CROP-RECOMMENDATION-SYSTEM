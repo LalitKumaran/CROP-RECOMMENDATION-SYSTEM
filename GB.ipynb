{
 "cells": [
  {
   "cell_type": "code",
   "execution_count": 22,
   "metadata": {},
   "outputs": [],
   "source": [
    "import pandas as pd\n",
    "from sklearn.model_selection import train_test_split\n",
    "from sklearn.preprocessing import LabelEncoder"
   ]
  },
  {
   "cell_type": "code",
   "execution_count": 23,
   "metadata": {},
   "outputs": [],
   "source": [
    "# Load and preprocess your dataset\n",
    "df = pd.read_csv(\"synthetic_crop_data1.csv\")"
   ]
  },
  {
   "cell_type": "code",
   "execution_count": 24,
   "metadata": {},
   "outputs": [],
   "source": [
    "# Convert categorical variables to numerical using Label Encoding\n",
    "label_encoder = LabelEncoder()\n",
    "df['CROPS'] = label_encoder.fit_transform(df['CROPS'])\n",
    "df['SOIL'] = label_encoder.fit_transform(df['SOIL'])\n",
    "df['WATERSOURCE'] = label_encoder.fit_transform(df['WATERSOURCE'])"
   ]
  },
  {
   "cell_type": "code",
   "execution_count": 25,
   "metadata": {},
   "outputs": [],
   "source": [
    "X = df.drop(columns=[\"CROPS\"])\n",
    "y = df[\"CROPS\"]"
   ]
  },
  {
   "cell_type": "code",
   "execution_count": 26,
   "metadata": {},
   "outputs": [],
   "source": [
    "# Split the dataset into training and testing sets\n",
    "X_train, X_test, y_train, y_test = train_test_split(X, y, test_size=0.2, random_state=42)"
   ]
  },
  {
   "cell_type": "code",
   "execution_count": 27,
   "metadata": {},
   "outputs": [
    {
     "data": {
      "text/plain": [
       "XGBClassifier(base_score=None, booster=None, callbacks=None,\n",
       "              colsample_bylevel=None, colsample_bynode=None,\n",
       "              colsample_bytree=None, early_stopping_rounds=None,\n",
       "              enable_categorical=False, eval_metric=None, feature_types=None,\n",
       "              gamma=None, gpu_id=None, grow_policy=None, importance_type=None,\n",
       "              interaction_constraints=None, learning_rate=None, max_bin=None,\n",
       "              max_cat_threshold=None, max_cat_to_onehot=None,\n",
       "              max_delta_step=None, max_depth=None, max_leaves=None,\n",
       "              min_child_weight=None, missing=nan, monotone_constraints=None,\n",
       "              n_estimators=100, n_jobs=None, num_parallel_tree=None,\n",
       "              objective='multi:softmax', predictor=None, ...)"
      ]
     },
     "execution_count": 27,
     "metadata": {},
     "output_type": "execute_result"
    }
   ],
   "source": [
    "import xgboost as xgb\n",
    "\n",
    "# Create and train the XGBoost model\n",
    "model = xgb.XGBClassifier(objective='multi:softmax')#, num_class=num_classes)\n",
    "model.fit(X_train, y_train)"
   ]
  },
  {
   "cell_type": "code",
   "execution_count": 28,
   "metadata": {},
   "outputs": [
    {
     "name": "stdout",
     "output_type": "stream",
     "text": [
      "Accuracy: 0.9996666666666667\n",
      "              precision    recall  f1-score   support\n",
      "\n",
      "           0       1.00      1.00      1.00       112\n",
      "           1       1.00      1.00      1.00       104\n",
      "           2       1.00      1.00      1.00       105\n",
      "           3       1.00      1.00      1.00        94\n",
      "           4       1.00      1.00      1.00       107\n",
      "           5       1.00      1.00      1.00        92\n",
      "           6       1.00      1.00      1.00        96\n",
      "           7       1.00      1.00      1.00        86\n",
      "           8       1.00      1.00      1.00       101\n",
      "           9       1.00      1.00      1.00        94\n",
      "          10       1.00      1.00      1.00        98\n",
      "          11       1.00      1.00      1.00       102\n",
      "          12       1.00      1.00      1.00        92\n",
      "          13       1.00      1.00      1.00        93\n",
      "          14       1.00      1.00      1.00       100\n",
      "          15       1.00      1.00      1.00       105\n",
      "          16       1.00      1.00      1.00       112\n",
      "          17       1.00      1.00      1.00        97\n",
      "          18       1.00      1.00      1.00        99\n",
      "          19       1.00      0.99      1.00       114\n",
      "          20       1.00      1.00      1.00        98\n",
      "          21       1.00      1.00      1.00       109\n",
      "          22       1.00      1.00      1.00        89\n",
      "          23       1.00      1.00      1.00        99\n",
      "          24       1.00      1.00      1.00        96\n",
      "          25       1.00      1.00      1.00       106\n",
      "          26       1.00      1.00      1.00        96\n",
      "          27       1.00      1.00      1.00       113\n",
      "          28       1.00      1.00      1.00       104\n",
      "          29       0.99      1.00      0.99        87\n",
      "\n",
      "    accuracy                           1.00      3000\n",
      "   macro avg       1.00      1.00      1.00      3000\n",
      "weighted avg       1.00      1.00      1.00      3000\n",
      "\n"
     ]
    }
   ],
   "source": [
    "from sklearn.metrics import accuracy_score, classification_report\n",
    "\n",
    "# Make predictions on the test set\n",
    "y_pred = model.predict(X_test)\n",
    "\n",
    "# Evaluate the model\n",
    "accuracy = accuracy_score(y_test, y_pred)\n",
    "report = classification_report(y_test, y_pred)\n",
    "\n",
    "print(f\"Accuracy: {accuracy}\")\n",
    "print(report)\n"
   ]
  },
  {
   "cell_type": "markdown",
   "metadata": {},
   "source": [
    "# Input new data for recommendation\n",
    "new_data = pd.DataFrame({\n",
    "    'Soil_Type': ['Sandy', 'Clay'],\n",
    "    # Add other relevant features\n",
    "})\n",
    "\n",
    "# Encode categorical variables and preprocess as needed\n",
    "new_data['Soil_Type'] = label_encoder.transform(new_data['Soil_Type'])\n",
    "\n",
    "# Make crop recommendations\n",
    "recommendation = model.predict(new_data)\n",
    "\n",
    "print(f\"Recommended Crop: {recommendation[0]}\")"
   ]
  }
 ],
 "metadata": {
  "kernelspec": {
   "display_name": "base",
   "language": "python",
   "name": "python3"
  },
  "language_info": {
   "codemirror_mode": {
    "name": "ipython",
    "version": 3
   },
   "file_extension": ".py",
   "mimetype": "text/x-python",
   "name": "python",
   "nbconvert_exporter": "python",
   "pygments_lexer": "ipython3",
   "version": "3.9.7"
  },
  "orig_nbformat": 4
 },
 "nbformat": 4,
 "nbformat_minor": 2
}
