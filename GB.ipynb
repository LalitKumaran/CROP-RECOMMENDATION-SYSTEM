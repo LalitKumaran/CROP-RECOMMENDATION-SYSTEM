{
 "cells": [
  {
   "cell_type": "code",
   "execution_count": 12,
   "metadata": {},
   "outputs": [],
   "source": [
    "import pandas as pd\n",
    "from sklearn.model_selection import train_test_split\n",
    "from sklearn.preprocessing import LabelEncoder\n",
    "from sklearn.ensemble import GradientBoostingClassifier"
   ]
  },
  {
   "cell_type": "code",
   "execution_count": 13,
   "metadata": {},
   "outputs": [],
   "source": [
    "# Load and preprocess your dataset\n",
    "df = pd.read_csv(\"crop_data2.csv\")"
   ]
  },
  {
   "cell_type": "code",
   "execution_count": 14,
   "metadata": {},
   "outputs": [],
   "source": [
    "# Convert categorical variables to numerical using Label Encoding\n",
    "label_encoder = LabelEncoder()\n",
    "crops_label_encoder = LabelEncoder()\n",
    "df['CROPS'] = crops_label_encoder.fit_transform(df['CROPS'])\n",
    "soil_label_encoder = LabelEncoder()\n",
    "df['SOIL'] = soil_label_encoder.fit_transform(df['SOIL'])\n",
    "type_of_crop_label_encoder = LabelEncoder()\n",
    "df['TYPE_OF_CROP'] = type_of_crop_label_encoder.fit_transform(df['TYPE_OF_CROP'])\n",
    "season_label_encoder = LabelEncoder()\n",
    "df['SEASON'] = season_label_encoder.fit_transform(df['SEASON'])\n",
    "sown_label_encoder = LabelEncoder()\n",
    "df['SOWN'] = sown_label_encoder.fit_transform(df['SOWN'])\n",
    "harvested_label_encoder = LabelEncoder()\n",
    "df['HARVESTED'] = harvested_label_encoder.fit_transform(df['HARVESTED'])\n",
    "watersource_label_encoder = LabelEncoder()\n",
    "df['WATERSOURCE'] = watersource_label_encoder.fit_transform(df['WATERSOURCE'])"
   ]
  },
  {
   "cell_type": "code",
   "execution_count": 15,
   "metadata": {},
   "outputs": [],
   "source": [
    "X = df.drop(columns=[\"CROPS\"])\n",
    "y = df[\"CROPS\"]"
   ]
  },
  {
   "cell_type": "code",
   "execution_count": 16,
   "metadata": {},
   "outputs": [],
   "source": [
    "# Split the dataset into training and testing sets\n",
    "X_train, X_test, y_train, y_test = train_test_split(X, y, test_size=0.2, random_state=42)"
   ]
  },
  {
   "cell_type": "code",
   "execution_count": 17,
   "metadata": {},
   "outputs": [
    {
     "data": {
      "text/plain": [
       "XGBClassifier(base_score=None, booster=None, callbacks=None,\n",
       "              colsample_bylevel=None, colsample_bynode=None,\n",
       "              colsample_bytree=None, early_stopping_rounds=None,\n",
       "              enable_categorical=False, eval_metric=None, feature_types=None,\n",
       "              gamma=None, gpu_id=None, grow_policy=None, importance_type=None,\n",
       "              interaction_constraints=None, learning_rate=None, max_bin=None,\n",
       "              max_cat_threshold=None, max_cat_to_onehot=None,\n",
       "              max_delta_step=None, max_depth=None, max_leaves=None,\n",
       "              min_child_weight=None, missing=nan, monotone_constraints=None,\n",
       "              n_estimators=100, n_jobs=None, num_parallel_tree=None,\n",
       "              objective='multi:softmax', predictor=None, ...)"
      ]
     },
     "execution_count": 17,
     "metadata": {},
     "output_type": "execute_result"
    }
   ],
   "source": [
    "import xgboost as xgb\n",
    "\n",
    "# Create and train the XGBoost model\n",
    "model = xgb.XGBClassifier(objective='multi:softmax')#, num_class=num_classes)\n",
    "model.fit(X_train, y_train)"
   ]
  },
  {
   "cell_type": "code",
   "execution_count": 18,
   "metadata": {},
   "outputs": [],
   "source": [
    "# model = GradientBoostingClassifier(n_estimators=100, learning_rate=0.1, max_depth=3, random_state=42)\n",
    "# model.fit(X_train, y_train)"
   ]
  },
  {
   "cell_type": "code",
   "execution_count": 19,
   "metadata": {},
   "outputs": [
    {
     "name": "stdout",
     "output_type": "stream",
     "text": [
      "Accuracy: 0.998\n",
      "              precision    recall  f1-score   support\n",
      "\n",
      "           0       1.00      1.00      1.00        30\n",
      "           1       1.00      1.00      1.00        24\n",
      "           2       1.00      1.00      1.00        15\n",
      "           3       1.00      1.00      1.00        21\n",
      "           4       1.00      1.00      1.00        18\n",
      "           5       1.00      1.00      1.00        21\n",
      "           6       1.00      1.00      1.00        21\n",
      "           7       1.00      1.00      1.00        20\n",
      "           8       1.00      1.00      1.00        18\n",
      "           9       1.00      1.00      1.00        18\n",
      "          10       1.00      1.00      1.00        27\n",
      "          11       1.00      0.96      0.98        25\n",
      "          12       1.00      1.00      1.00        21\n",
      "          13       1.00      1.00      1.00        18\n",
      "          14       1.00      1.00      1.00        21\n",
      "          15       1.00      1.00      1.00        16\n",
      "          16       1.00      1.00      1.00        13\n",
      "          17       0.92      1.00      0.96        11\n",
      "          18       1.00      1.00      1.00        18\n",
      "          19       1.00      1.00      1.00        19\n",
      "          20       1.00      1.00      1.00        17\n",
      "          21       1.00      1.00      1.00        34\n",
      "          22       1.00      1.00      1.00        19\n",
      "          23       1.00      1.00      1.00        17\n",
      "          24       1.00      1.00      1.00        18\n",
      "\n",
      "    accuracy                           1.00       500\n",
      "   macro avg       1.00      1.00      1.00       500\n",
      "weighted avg       1.00      1.00      1.00       500\n",
      "\n"
     ]
    }
   ],
   "source": [
    "from sklearn.metrics import accuracy_score, classification_report\n",
    "\n",
    "# Make predictions on the test set\n",
    "y_pred = model.predict(X_test)\n",
    "\n",
    "# Evaluate the model\n",
    "accuracy = accuracy_score(y_test, y_pred)\n",
    "report = classification_report(y_test, y_pred)\n",
    "\n",
    "print(f\"Accuracy: {accuracy}\")\n",
    "print(report)\n"
   ]
  },
  {
   "cell_type": "markdown",
   "metadata": {},
   "source": [
    "# Input new data for recommendation\n",
    "new_data = pd.DataFrame({\n",
    "    'Soil_Type': ['Sandy', 'Clay'],\n",
    "    # Add other relevant features\n",
    "})\n",
    "\n",
    "# Encode categorical variables and preprocess as needed\n",
    "new_data['Soil_Type'] = label_encoder.transform(new_data['Soil_Type'])\n",
    "\n",
    "# Make crop recommendations\n",
    "recommendation = model.predict(new_data)\n",
    "\n",
    "print(f\"Recommended Crop: {recommendation[0]}\")"
   ]
  }
 ],
 "metadata": {
  "kernelspec": {
   "display_name": "base",
   "language": "python",
   "name": "python3"
  },
  "language_info": {
   "codemirror_mode": {
    "name": "ipython",
    "version": 3
   },
   "file_extension": ".py",
   "mimetype": "text/x-python",
   "name": "python",
   "nbconvert_exporter": "python",
   "pygments_lexer": "ipython3",
   "version": "3.9.7"
  },
  "orig_nbformat": 4
 },
 "nbformat": 4,
 "nbformat_minor": 2
}
