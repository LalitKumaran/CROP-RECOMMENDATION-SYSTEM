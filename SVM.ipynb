{
 "cells": [
  {
   "cell_type": "code",
   "execution_count": 1366,
   "metadata": {},
   "outputs": [],
   "source": [
    "import numpy as np\n",
    "import pandas as pd\n",
    "from sklearn import svm\n",
    "from sklearn.model_selection import train_test_split\n",
    "from sklearn.svm import SVC\n",
    "from sklearn.preprocessing import OneHotEncoder,MultiLabelBinarizer\n",
    "from sklearn.preprocessing import LabelEncoder, StandardScaler\n",
    "from sklearn.metrics import classification_report, accuracy_score"
   ]
  },
  {
   "cell_type": "code",
   "execution_count": 1367,
   "metadata": {},
   "outputs": [],
   "source": [
    "df = pd.read_csv(\"shuffled_file.csv\")\n",
    "if \"Unnamed: 0\" in df.columns:\n",
    "    df = df.drop(columns=[\"Unnamed: 0\"])"
   ]
  },
  {
   "cell_type": "code",
   "execution_count": 1368,
   "metadata": {},
   "outputs": [],
   "source": [
    "# Convert categorical variables to numerical using Label Encoding\n",
    "crops_label_encoder = LabelEncoder()\n",
    "df['CROPS'] = crops_label_encoder.fit_transform(df['CROPS'])\n",
    "soil_label_encoder = LabelEncoder()\n",
    "df['SOIL'] = soil_label_encoder.fit_transform(df['SOIL'])\n",
    "type_of_crop_label_encoder = LabelEncoder()\n",
    "df['TYPE_OF_CROP'] = type_of_crop_label_encoder.fit_transform(df['TYPE_OF_CROP'])\n",
    "season_label_encoder = LabelEncoder()\n",
    "df['SEASON'] = season_label_encoder.fit_transform(df['SEASON'])\n",
    "sown_label_encoder = LabelEncoder()\n",
    "df['SOWN'] = sown_label_encoder.fit_transform(df['SOWN'])\n",
    "harvested_label_encoder = LabelEncoder()\n",
    "df['HARVESTED'] = harvested_label_encoder.fit_transform(df['HARVESTED'])\n",
    "watersource_label_encoder = LabelEncoder()\n",
    "df['WATERSOURCE'] = watersource_label_encoder.fit_transform(df['WATERSOURCE'])\n"
   ]
  },
  {
   "cell_type": "code",
   "execution_count": 1369,
   "metadata": {},
   "outputs": [],
   "source": [
    "# categorical_cols = ['CROPS','SOIL','WATERSOURCE']\n",
    "# np.unique(mlb.inverse_transform(df['CROPS']))"
   ]
  },
  {
   "cell_type": "code",
   "execution_count": 1370,
   "metadata": {},
   "outputs": [],
   "source": [
    "# Split the data into features (X) and target (y)\n",
    "X = df.drop(['CROPS'], axis=1)\n",
    "y = df['CROPS']\n"
   ]
  },
  {
   "cell_type": "code",
   "execution_count": 1371,
   "metadata": {},
   "outputs": [],
   "source": [
    "# Split the data into training and testing sets\n",
    "X_train, X_test, y_train, y_test = train_test_split(X, y, test_size=0.3, random_state=None)"
   ]
  },
  {
   "cell_type": "code",
   "execution_count": 1372,
   "metadata": {},
   "outputs": [],
   "source": [
    "# One-hot encode categorical attributes\n",
    "# encoder = OneHotEncoder(handle_unknown='ignore', sparse=False)\n",
    "# X_train_encoded = encoder.fit_transform(X_train[categorical_cols])\n",
    "# X_test_encoded = encoder.transform(X_test[categorical_cols])\n",
    "# y_encoded = encoder.fit_transform(y.reshape(-1, 1))"
   ]
  },
  {
   "cell_type": "code",
   "execution_count": 1373,
   "metadata": {},
   "outputs": [],
   "source": [
    "# Standardize the features\n",
    "scaler = StandardScaler()\n",
    "X_train_scaled = scaler.fit_transform(X_train)\n",
    "X_test_scaled = scaler.transform(X_test)"
   ]
  },
  {
   "cell_type": "code",
   "execution_count": 1374,
   "metadata": {},
   "outputs": [],
   "source": [
    "# Build the SVM model\n",
    "svm_model = SVC(kernel='linear', C=1.0, random_state=42)"
   ]
  },
  {
   "cell_type": "code",
   "execution_count": 1375,
   "metadata": {},
   "outputs": [
    {
     "data": {
      "text/plain": [
       "SVC(kernel='linear', random_state=42)"
      ]
     },
     "execution_count": 1375,
     "metadata": {},
     "output_type": "execute_result"
    }
   ],
   "source": [
    "# Train the model\n",
    "svm_model.fit(X_train_scaled, y_train)"
   ]
  },
  {
   "cell_type": "code",
   "execution_count": 1376,
   "metadata": {},
   "outputs": [],
   "source": [
    "# Make predictions\n",
    "y_pred = svm_model.predict(X_test_scaled)"
   ]
  },
  {
   "cell_type": "code",
   "execution_count": 1377,
   "metadata": {},
   "outputs": [],
   "source": [
    "# Convert numerical labels back to original categorical labels\n",
    "y_test_original = crops_label_encoder.inverse_transform(y_test)\n",
    "y_pred_original = crops_label_encoder.inverse_transform(y_pred)"
   ]
  },
  {
   "cell_type": "code",
   "execution_count": 1378,
   "metadata": {},
   "outputs": [
    {
     "data": {
      "text/plain": [
       "array(['wheat', 'rice', 'maize', 'sunflower', 'groundnut', 'sugarcane',\n",
       "       'blackgram', 'thinai', 'sugarcane', 'ragi', 'castor',\n",
       "       'Pearl millet', 'kudiraivali', 'soyabean', 'panivaragu', 'rice',\n",
       "       'sugarbeet', 'cowpea', 'panivaragu', 'soyabean', 'Pearl millet',\n",
       "       'cotton', 'Pearl millet', 'wheat', 'sorghum', 'ragi', 'samai',\n",
       "       'maize', 'greengram', 'castor', 'varagu', 'samai', 'bengalgram',\n",
       "       'ragi', 'bengalgram', 'blackgram', 'cotton', 'sorghum',\n",
       "       'sugarcane', 'wheat', 'kudiraivali', 'rice', 'ragi', 'cotton',\n",
       "       'kudiraivali', 'rice', 'castor', 'bengalgram', 'sunflower',\n",
       "       'sunflower', 'sugarbeet', 'cowpea', 'ragi', 'wheat', 'blackgram',\n",
       "       'jute', 'jute', 'samai', 'ragi', 'wheat', 'ragi', 'ragi',\n",
       "       'sunflower', 'Pearl millet', 'sunflower', 'horsegram', 'groundnut',\n",
       "       'groundnut', 'soyabean', 'ragi', 'bengalgram', 'thinai',\n",
       "       'blackgram', 'wheat', 'sorghum', 'cotton', 'panivaragu',\n",
       "       'groundnut', 'horsegram', 'ragi', 'groundnut', 'redgram',\n",
       "       'greengram', 'sunflower', 'ragi', 'sugarbeet', 'sugarbeet',\n",
       "       'redgram', 'cowpea', 'soyabean', 'greengram', 'sorghum',\n",
       "       'sunflower', 'greengram', 'samai', 'cotton', 'horsegram',\n",
       "       'redgram', 'sorghum', 'cotton', 'Pearl millet', 'soyabean',\n",
       "       'sorghum', 'castor', 'sunflower', 'samai', 'varagu', 'sunflower',\n",
       "       'blackgram', 'ragi', 'groundnut', 'cotton', 'samai', 'cowpea',\n",
       "       'redgram', 'panivaragu', 'thinai', 'redgram', 'kudiraivali',\n",
       "       'horsegram', 'samai', 'samai', 'panivaragu', 'groundnut',\n",
       "       'sugarbeet', 'varagu', 'Pearl millet', 'kudiraivali', 'soyabean',\n",
       "       'groundnut', 'sugarcane', 'samai', 'Pearl millet', 'kudiraivali',\n",
       "       'thinai', 'greengram', 'greengram', 'castor', 'horsegram',\n",
       "       'soyabean', 'panivaragu', 'blackgram', 'sunflower', 'greengram',\n",
       "       'wheat', 'varagu', 'redgram', 'samai', 'bengalgram', 'sorghum',\n",
       "       'sorghum', 'redgram', 'rice', 'horsegram', 'wheat', 'redgram',\n",
       "       'horsegram', 'varagu', 'sunflower', 'ragi', 'castor', 'redgram',\n",
       "       'castor', 'horsegram', 'castor', 'Pearl millet', 'groundnut',\n",
       "       'soyabean', 'horsegram', 'maize', 'horsegram', 'samai',\n",
       "       'sunflower', 'Pearl millet', 'sunflower', 'sugarbeet', 'soyabean',\n",
       "       'maize', 'ragi', 'jute', 'rice', 'sorghum', 'greengram', 'castor',\n",
       "       'cowpea', 'groundnut', 'sorghum', 'soyabean', 'redgram', 'maize',\n",
       "       'horsegram', 'blackgram', 'samai', 'panivaragu', 'ragi', 'redgram',\n",
       "       'samai', 'castor', 'bengalgram', 'cotton', 'panivaragu', 'samai',\n",
       "       'soyabean', 'samai', 'sunflower', 'varagu', 'blackgram',\n",
       "       'kudiraivali', 'ragi', 'jute', 'cowpea', 'thinai', 'soyabean',\n",
       "       'maize', 'thinai', 'greengram', 'samai', 'maize', 'blackgram',\n",
       "       'cowpea', 'rice', 'panivaragu', 'sugarbeet', 'rice', 'cowpea',\n",
       "       'jute', 'wheat', 'sorghum', 'sugarbeet', 'rice', 'panivaragu',\n",
       "       'kudiraivali', 'horsegram', 'bengalgram', 'panivaragu', 'varagu',\n",
       "       'rice', 'maize', 'greengram', 'cowpea', 'samai', 'Pearl millet',\n",
       "       'thinai', 'wheat', 'sugarcane', 'sorghum', 'cotton', 'sugarbeet',\n",
       "       'panivaragu', 'sunflower', 'soyabean', 'groundnut', 'horsegram',\n",
       "       'samai', 'maize', 'varagu', 'blackgram', 'blackgram', 'jute',\n",
       "       'bengalgram', 'sugarcane', 'ragi', 'soyabean', 'horsegram',\n",
       "       'groundnut', 'kudiraivali', 'cotton', 'jute', 'panivaragu', 'jute',\n",
       "       'varagu', 'kudiraivali', 'Pearl millet', 'sugarbeet', 'cowpea',\n",
       "       'sugarbeet', 'sugarbeet', 'bengalgram', 'cowpea', 'wheat',\n",
       "       'sunflower', 'redgram', 'soyabean', 'sugarcane', 'varagu',\n",
       "       'greengram', 'ragi', 'thinai', 'wheat', 'cowpea', 'jute',\n",
       "       'bengalgram', 'wheat', 'redgram', 'ragi', 'varagu', 'cowpea',\n",
       "       'maize', 'sugarcane', 'redgram', 'panivaragu', 'redgram',\n",
       "       'groundnut', 'maize', 'bengalgram', 'sugarcane', 'cowpea',\n",
       "       'thinai', 'maize', 'soyabean', 'jute', 'rice', 'jute', 'jute',\n",
       "       'greengram', 'sugarcane', 'cotton', 'sugarcane', 'sorghum',\n",
       "       'blackgram', 'cowpea', 'jute', 'maize', 'thinai', 'varagu',\n",
       "       'maize', 'groundnut', 'greengram', 'sugarcane', 'sugarbeet',\n",
       "       'varagu', 'blackgram', 'thinai', 'maize', 'soyabean', 'ragi',\n",
       "       'sorghum', 'castor', 'panivaragu', 'rice', 'horsegram', 'jute',\n",
       "       'greengram', 'soyabean', 'samai', 'samai', 'sunflower', 'rice',\n",
       "       'redgram', 'thinai', 'thinai', 'sugarbeet', 'redgram', 'rice',\n",
       "       'cowpea', 'cowpea', 'sugarbeet', 'groundnut', 'ragi', 'rice',\n",
       "       'redgram', 'sugarcane', 'sunflower', 'sugarcane', 'panivaragu',\n",
       "       'sugarcane', 'sugarcane', 'greengram', 'groundnut', 'rice',\n",
       "       'wheat', 'wheat', 'horsegram', 'thinai', 'cowpea', 'castor',\n",
       "       'bengalgram', 'samai', 'bengalgram', 'wheat', 'cotton',\n",
       "       'sunflower', 'maize', 'castor', 'sorghum', 'soyabean', 'soyabean',\n",
       "       'rice', 'sugarcane', 'bengalgram', 'kudiraivali', 'blackgram',\n",
       "       'blackgram', 'wheat', 'horsegram', 'cowpea', 'blackgram',\n",
       "       'bengalgram', 'cotton', 'panivaragu', 'wheat', 'samai',\n",
       "       'blackgram', 'jute', 'castor', 'cowpea', 'samai', 'sunflower',\n",
       "       'sugarcane', 'kudiraivali', 'Pearl millet', 'ragi', 'cotton',\n",
       "       'groundnut', 'samai', 'greengram', 'groundnut', 'sorghum',\n",
       "       'soyabean', 'cotton', 'jute', 'redgram', 'redgram', 'thinai',\n",
       "       'cotton', 'sunflower', 'rice', 'cotton', 'ragi', 'cotton',\n",
       "       'sugarcane', 'sunflower', 'sunflower', 'groundnut', 'panivaragu',\n",
       "       'ragi', 'cotton', 'redgram', 'sunflower', 'cowpea', 'groundnut',\n",
       "       'kudiraivali', 'thinai', 'Pearl millet', 'sugarbeet', 'sorghum',\n",
       "       'sorghum', 'soyabean', 'sugarcane', 'cotton', 'cowpea',\n",
       "       'panivaragu', 'kudiraivali', 'ragi', 'soyabean', 'thinai',\n",
       "       'sorghum', 'thinai', 'jute', 'samai', 'castor', 'horsegram',\n",
       "       'redgram', 'soyabean', 'Pearl millet', 'panivaragu', 'samai',\n",
       "       'castor', 'horsegram', 'Pearl millet', 'cowpea', 'sugarcane',\n",
       "       'samai', 'wheat', 'cowpea', 'samai', 'soyabean', 'wheat', 'castor',\n",
       "       'kudiraivali', 'thinai', 'varagu', 'sunflower', 'cowpea',\n",
       "       'kudiraivali', 'cowpea', 'samai', 'castor', 'maize', 'soyabean',\n",
       "       'ragi', 'varagu', 'sugarbeet', 'horsegram', 'panivaragu',\n",
       "       'horsegram', 'bengalgram', 'soyabean', 'sugarcane', 'kudiraivali',\n",
       "       'cotton', 'panivaragu', 'blackgram', 'ragi', 'panivaragu',\n",
       "       'sugarcane', 'sorghum', 'wheat', 'cowpea', 'groundnut',\n",
       "       'Pearl millet', 'maize', 'greengram', 'panivaragu', 'varagu',\n",
       "       'thinai', 'panivaragu', 'greengram', 'sunflower', 'rice', 'wheat',\n",
       "       'sorghum', 'sugarcane', 'maize', 'varagu', 'sorghum', 'sorghum',\n",
       "       'castor', 'samai', 'bengalgram', 'samai', 'greengram', 'thinai',\n",
       "       'rice', 'groundnut', 'sugarbeet', 'rice', 'bengalgram',\n",
       "       'horsegram', 'thinai', 'redgram', 'groundnut', 'kudiraivali',\n",
       "       'blackgram', 'cotton', 'horsegram', 'maize', 'sunflower',\n",
       "       'redgram', 'jute', 'maize', 'sugarbeet', 'greengram',\n",
       "       'kudiraivali', 'cowpea', 'groundnut', 'sugarbeet', 'groundnut',\n",
       "       'maize', 'rice', 'rice', 'groundnut', 'sorghum', 'thinai',\n",
       "       'kudiraivali', 'panivaragu', 'bengalgram', 'rice', 'thinai',\n",
       "       'kudiraivali', 'greengram', 'sorghum', 'horsegram', 'cotton',\n",
       "       'castor', 'cowpea', 'cotton', 'horsegram', 'jute', 'sugarcane',\n",
       "       'sugarbeet', 'jute', 'ragi', 'cotton', 'thinai', 'ragi', 'maize',\n",
       "       'maize', 'jute', 'jute', 'Pearl millet', 'blackgram', 'panivaragu',\n",
       "       'sugarcane', 'kudiraivali', 'Pearl millet', 'maize', 'sugarcane',\n",
       "       'sorghum', 'bengalgram', 'Pearl millet', 'wheat', 'wheat',\n",
       "       'horsegram', 'bengalgram', 'maize', 'soyabean', 'cotton',\n",
       "       'sorghum', 'bengalgram', 'bengalgram', 'cowpea', 'maize', 'jute',\n",
       "       'sunflower', 'bengalgram', 'greengram', 'Pearl millet',\n",
       "       'greengram', 'cowpea', 'kudiraivali', 'kudiraivali', 'cowpea',\n",
       "       'castor', 'horsegram', 'sugarbeet', 'blackgram', 'cotton',\n",
       "       'kudiraivali', 'jute', 'groundnut', 'panivaragu', 'sorghum',\n",
       "       'varagu', 'bengalgram', 'kudiraivali', 'sugarbeet', 'wheat',\n",
       "       'panivaragu', 'panivaragu', 'castor', 'wheat', 'horsegram', 'rice',\n",
       "       'kudiraivali', 'rice', 'varagu', 'ragi', 'sugarcane', 'maize',\n",
       "       'thinai', 'cowpea', 'jute', 'Pearl millet', 'samai', 'soyabean',\n",
       "       'horsegram', 'sorghum', 'castor', 'kudiraivali', 'panivaragu',\n",
       "       'rice', 'horsegram', 'groundnut', 'panivaragu', 'redgram',\n",
       "       'soyabean', 'samai', 'sunflower', 'panivaragu', 'greengram',\n",
       "       'cotton', 'sugarcane', 'thinai', 'Pearl millet', 'blackgram',\n",
       "       'bengalgram', 'castor', 'samai', 'castor', 'thinai',\n",
       "       'Pearl millet', 'Pearl millet', 'cowpea', 'cotton', 'horsegram',\n",
       "       'groundnut', 'rice', 'blackgram', 'samai', 'jute', 'cotton',\n",
       "       'jute', 'rice', 'soyabean', 'kudiraivali', 'bengalgram', 'wheat',\n",
       "       'sugarcane', 'sunflower', 'sunflower', 'horsegram', 'varagu',\n",
       "       'varagu', 'bengalgram', 'sugarcane', 'greengram', 'ragi',\n",
       "       'blackgram', 'sorghum', 'groundnut', 'bengalgram', 'redgram',\n",
       "       'ragi', 'rice', 'rice', 'redgram', 'cowpea', 'horsegram',\n",
       "       'greengram', 'maize', 'redgram', 'bengalgram', 'blackgram',\n",
       "       'bengalgram', 'Pearl millet', 'blackgram', 'castor', 'kudiraivali',\n",
       "       'wheat', 'soyabean', 'wheat', 'varagu', 'rice', 'greengram',\n",
       "       'greengram', 'blackgram', 'bengalgram', 'redgram', 'cotton',\n",
       "       'wheat', 'sugarbeet', 'thinai', 'ragi', 'redgram', 'groundnut',\n",
       "       'Pearl millet', 'ragi', 'Pearl millet', 'maize'], dtype=object)"
      ]
     },
     "execution_count": 1378,
     "metadata": {},
     "output_type": "execute_result"
    }
   ],
   "source": [
    "y_test_original"
   ]
  },
  {
   "cell_type": "code",
   "execution_count": 1379,
   "metadata": {},
   "outputs": [],
   "source": [
    "# Evaluate the model\n",
    "accuracy = accuracy_score(y_test, y_pred)\n",
    "classification_rep = classification_report(y_test, y_pred)"
   ]
  },
  {
   "cell_type": "code",
   "execution_count": 1380,
   "metadata": {},
   "outputs": [
    {
     "name": "stdout",
     "output_type": "stream",
     "text": [
      "Accuracy: 1.0\n",
      "Classification Report:\n",
      "               precision    recall  f1-score   support\n",
      "\n",
      "           0       1.00      1.00      1.00        27\n",
      "           1       1.00      1.00      1.00        32\n",
      "           2       1.00      1.00      1.00        27\n",
      "           3       1.00      1.00      1.00        26\n",
      "           4       1.00      1.00      1.00        31\n",
      "           5       1.00      1.00      1.00        35\n",
      "           6       1.00      1.00      1.00        28\n",
      "           7       1.00      1.00      1.00        31\n",
      "           8       1.00      1.00      1.00        33\n",
      "           9       1.00      1.00      1.00        27\n",
      "          10       1.00      1.00      1.00        30\n",
      "          11       1.00      1.00      1.00        30\n",
      "          12       1.00      1.00      1.00        33\n",
      "          13       1.00      1.00      1.00        34\n",
      "          14       1.00      1.00      1.00        30\n",
      "          15       1.00      1.00      1.00        32\n",
      "          16       1.00      1.00      1.00        35\n",
      "          17       1.00      1.00      1.00        30\n",
      "          18       1.00      1.00      1.00        32\n",
      "          19       1.00      1.00      1.00        24\n",
      "          20       1.00      1.00      1.00        31\n",
      "          21       1.00      1.00      1.00        31\n",
      "          22       1.00      1.00      1.00        29\n",
      "          23       1.00      1.00      1.00        22\n",
      "          24       1.00      1.00      1.00        30\n",
      "\n",
      "    accuracy                           1.00       750\n",
      "   macro avg       1.00      1.00      1.00       750\n",
      "weighted avg       1.00      1.00      1.00       750\n",
      "\n"
     ]
    }
   ],
   "source": [
    "print(\"Accuracy:\", accuracy)\n",
    "print(\"Classification Report:\\n\", classification_rep)"
   ]
  }
 ],
 "metadata": {
  "kernelspec": {
   "display_name": "base",
   "language": "python",
   "name": "python3"
  },
  "language_info": {
   "codemirror_mode": {
    "name": "ipython",
    "version": 3
   },
   "file_extension": ".py",
   "mimetype": "text/x-python",
   "name": "python",
   "nbconvert_exporter": "python",
   "pygments_lexer": "ipython3",
   "version": "3.9.7"
  },
  "orig_nbformat": 4
 },
 "nbformat": 4,
 "nbformat_minor": 2
}
