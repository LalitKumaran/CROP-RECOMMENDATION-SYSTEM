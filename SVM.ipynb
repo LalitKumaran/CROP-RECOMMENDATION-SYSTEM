{
 "cells": [
  {
   "cell_type": "code",
   "execution_count": 19,
   "metadata": {},
   "outputs": [],
   "source": [
    "import numpy as np\n",
    "import pandas as pd\n",
    "from sklearn import svm\n",
    "from sklearn.model_selection import train_test_split\n",
    "from sklearn.svm import SVC\n",
    "from sklearn.preprocessing import OneHotEncoder\n",
    "from sklearn.preprocessing import LabelEncoder, StandardScaler\n",
    "from sklearn.metrics import classification_report, accuracy_score"
   ]
  },
  {
   "cell_type": "code",
   "execution_count": 20,
   "metadata": {},
   "outputs": [],
   "source": [
    "df = pd.read_csv(\"crop_data2.csv\")"
   ]
  },
  {
   "cell_type": "code",
   "execution_count": 21,
   "metadata": {},
   "outputs": [],
   "source": [
    "# Convert categorical variables to numerical using Label Encoding\n",
    "label_encoder = LabelEncoder()\n",
    "df['CROPS'] = label_encoder.fit_transform(df['CROPS'])\n",
    "df['SOIL'] = label_encoder.fit_transform(df['SOIL'])\n",
    "df['TYPE_OF_CROP'] = label_encoder.fit_transform(df['TYPE_OF_CROP'])\n",
    "df['SEASON'] = label_encoder.fit_transform(df['SEASON'])\n",
    "df['SOWN'] = label_encoder.fit_transform(df['SOWN'])\n",
    "df['HARVESTED'] = label_encoder.fit_transform(df['HARVESTED'])\n",
    "df['WATERSOURCE'] = label_encoder.fit_transform(df['WATERSOURCE'])\n"
   ]
  },
  {
   "cell_type": "code",
   "execution_count": 22,
   "metadata": {},
   "outputs": [],
   "source": [
    "# categorical_cols = ['CROPS','SOIL','WATERSOURCE']"
   ]
  },
  {
   "cell_type": "code",
   "execution_count": 23,
   "metadata": {},
   "outputs": [],
   "source": [
    "# Split the data into features (X) and target (y)\n",
    "X = df.drop(['CROPS'], axis=1)#.astype(float)\n",
    "y = df['CROPS']#.astype(int)"
   ]
  },
  {
   "cell_type": "code",
   "execution_count": 24,
   "metadata": {},
   "outputs": [],
   "source": [
    "# Split the data into training and testing sets\n",
    "X_train, X_test, y_train, y_test = train_test_split(X, y, test_size=0.2, random_state=42)"
   ]
  },
  {
   "cell_type": "code",
   "execution_count": 25,
   "metadata": {},
   "outputs": [],
   "source": [
    "# One-hot encode categorical attributes\n",
    "# encoder = OneHotEncoder(handle_unknown='ignore', sparse=False)\n",
    "# X_train_encoded = encoder.fit_transform(X_train[categorical_cols])\n",
    "# X_test_encoded = encoder.transform(X_test[categorical_cols])\n",
    "# y_encoded = encoder.fit_transform(y.reshape(-1, 1))"
   ]
  },
  {
   "cell_type": "code",
   "execution_count": 26,
   "metadata": {},
   "outputs": [],
   "source": [
    "# Standardize the features\n",
    "scaler = StandardScaler()\n",
    "X_train_scaled = scaler.fit_transform(X_train)\n",
    "X_test_scaled = scaler.transform(X_test)"
   ]
  },
  {
   "cell_type": "code",
   "execution_count": 27,
   "metadata": {},
   "outputs": [],
   "source": [
    "# Build the SVM model\n",
    "svm_model = SVC(kernel='linear', C=1.0, random_state=42)"
   ]
  },
  {
   "cell_type": "code",
   "execution_count": 28,
   "metadata": {},
   "outputs": [
    {
     "data": {
      "text/plain": [
       "SVC(kernel='linear', random_state=42)"
      ]
     },
     "execution_count": 28,
     "metadata": {},
     "output_type": "execute_result"
    }
   ],
   "source": [
    "# Train the model\n",
    "svm_model.fit(X_train_scaled, y_train)"
   ]
  },
  {
   "cell_type": "code",
   "execution_count": 29,
   "metadata": {},
   "outputs": [],
   "source": [
    "# Make predictions\n",
    "y_pred = svm_model.predict(X_test_scaled)"
   ]
  },
  {
   "cell_type": "code",
   "execution_count": 30,
   "metadata": {},
   "outputs": [],
   "source": [
    "# Convert numerical labels back to original categorical labels\n",
    "# y_test_original = label_encoder.inverse_transform(y_test)\n",
    "# y_pred_original = label_encoder.inverse_transform(y_pred)"
   ]
  },
  {
   "cell_type": "code",
   "execution_count": 31,
   "metadata": {},
   "outputs": [],
   "source": [
    "# Evaluate the model\n",
    "accuracy = accuracy_score(y_test, y_pred)\n",
    "classification_rep = classification_report(y_test, y_pred)"
   ]
  },
  {
   "cell_type": "code",
   "execution_count": 32,
   "metadata": {},
   "outputs": [
    {
     "name": "stdout",
     "output_type": "stream",
     "text": [
      "Accuracy: 1.0\n",
      "Classification Report:\n",
      "               precision    recall  f1-score   support\n",
      "\n",
      "           0       1.00      1.00      1.00        30\n",
      "           1       1.00      1.00      1.00        24\n",
      "           2       1.00      1.00      1.00        15\n",
      "           3       1.00      1.00      1.00        21\n",
      "           4       1.00      1.00      1.00        18\n",
      "           5       1.00      1.00      1.00        21\n",
      "           6       1.00      1.00      1.00        21\n",
      "           7       1.00      1.00      1.00        20\n",
      "           8       1.00      1.00      1.00        18\n",
      "           9       1.00      1.00      1.00        18\n",
      "          10       1.00      1.00      1.00        27\n",
      "          11       1.00      1.00      1.00        25\n",
      "          12       1.00      1.00      1.00        21\n",
      "          13       1.00      1.00      1.00        18\n",
      "          14       1.00      1.00      1.00        21\n",
      "          15       1.00      1.00      1.00        16\n",
      "          16       1.00      1.00      1.00        13\n",
      "          17       1.00      1.00      1.00        11\n",
      "          18       1.00      1.00      1.00        18\n",
      "          19       1.00      1.00      1.00        19\n",
      "          20       1.00      1.00      1.00        17\n",
      "          21       1.00      1.00      1.00        34\n",
      "          22       1.00      1.00      1.00        19\n",
      "          23       1.00      1.00      1.00        17\n",
      "          24       1.00      1.00      1.00        18\n",
      "\n",
      "    accuracy                           1.00       500\n",
      "   macro avg       1.00      1.00      1.00       500\n",
      "weighted avg       1.00      1.00      1.00       500\n",
      "\n"
     ]
    }
   ],
   "source": [
    "print(\"Accuracy:\", accuracy)\n",
    "print(\"Classification Report:\\n\", classification_rep)"
   ]
  }
 ],
 "metadata": {
  "kernelspec": {
   "display_name": "base",
   "language": "python",
   "name": "python3"
  },
  "language_info": {
   "codemirror_mode": {
    "name": "ipython",
    "version": 3
   },
   "file_extension": ".py",
   "mimetype": "text/x-python",
   "name": "python",
   "nbconvert_exporter": "python",
   "pygments_lexer": "ipython3",
   "version": "3.9.7"
  },
  "orig_nbformat": 4
 },
 "nbformat": 4,
 "nbformat_minor": 2
}
