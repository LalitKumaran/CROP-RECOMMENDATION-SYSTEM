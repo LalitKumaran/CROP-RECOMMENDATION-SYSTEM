{
 "cells": [
  {
   "cell_type": "code",
   "execution_count": 45,
   "metadata": {},
   "outputs": [],
   "source": [
    "import pandas as pd\n",
    "import random\n",
    "df1 = pd.read_csv(\"Agri.csv\")"
   ]
  },
  {
   "cell_type": "code",
   "execution_count": 46,
   "metadata": {},
   "outputs": [],
   "source": [
    "num_entries = 5\n",
    "data1 = []\n",
    "for i in range(25):\n",
    "        for _ in range(num_entries):\n",
    "                crop = df1.loc[i, \"CROPS\"]\n",
    "\n",
    "                type_of_crop = df1.loc[i, \"TYPE_OF_CROP\"]\n",
    "\n",
    "                soil = df1.loc[i, \"SOIL\"]\n",
    "\n",
    "                season = df1.loc[i, \"SEASON\"]\n",
    "\n",
    "                sown = df1.loc[i, \"SOWN\"]\n",
    "\n",
    "                harvested = df1.loc[i, \"HARVESTED\"]\n",
    "\n",
    "                water_source = df1.loc[i, \"WATERSOURCE\"]\n",
    "                if water_source==\"both\":\n",
    "                        water_source=\"irrigated,rainfall\"\n",
    "\n",
    "                soil_ph_low, soil_ph_high = df1.loc[i, \"SOIL_PH_LOW\"], df1.loc[i, \"SOIL_PH_HIGH\"]\n",
    "                soil_ph = round(random.uniform(soil_ph_low, soil_ph_high), 1)\n",
    "\n",
    "                crop_duration = random.randint(df1.loc[i, \"CROPDURATION_MIN\"], df1.loc[i, \"CROPDURATION_MAX\"])\n",
    "\n",
    "                min_temp, max_temp = df1.loc[i, \"MIN_TEMP\"], df1.loc[i, \"MAX_TEMP\"]\n",
    "                temp = round(random.uniform(min_temp, max_temp), 2)\n",
    "\n",
    "                water_required = random.randint(df1.loc[i, \"WATERREQUIRED_MIN\"], df1.loc[i, \"WATERREQUIRED_MAX\"])\n",
    "\n",
    "                relative_humidity_min, relative_humidity_max = df1.loc[i, \"RELATIVE_HUMIDITY_MIN\"], df1.loc[i, \"RELATIVE_HUMIDITY_MAX\"]\n",
    "                relative_humidity = round(random.uniform(relative_humidity_min, relative_humidity_max), 2)\n",
    "\n",
    "                data1.append((crop, type_of_crop, soil, season, sown, harvested, soil_ph, crop_duration,  water_source, temp, water_required, relative_humidity))"
   ]
  },
  {
   "cell_type": "code",
   "execution_count": 47,
   "metadata": {},
   "outputs": [],
   "source": [
    "df2 = pd.DataFrame(data1,columns=['CROPS','TYPE_OF_CROP','SOIL','SEASON','SOWN','HARVESTED','SOIL_PH','CROP_DURATION','WATERSOURCE','TEMP','WATER_REQUIRED','RELATIVE_HUMIDITY'])"
   ]
  },
  {
   "cell_type": "code",
   "execution_count": 48,
   "metadata": {},
   "outputs": [],
   "source": [
    "df2.to_csv(\"test_data.csv\")"
   ]
  }
 ],
 "metadata": {
  "kernelspec": {
   "display_name": "base",
   "language": "python",
   "name": "python3"
  },
  "language_info": {
   "codemirror_mode": {
    "name": "ipython",
    "version": 3
   },
   "file_extension": ".py",
   "mimetype": "text/x-python",
   "name": "python",
   "nbconvert_exporter": "python",
   "pygments_lexer": "ipython3",
   "version": "3.9.7"
  },
  "orig_nbformat": 4
 },
 "nbformat": 4,
 "nbformat_minor": 2
}
