{
 "cells": [
  {
   "cell_type": "code",
   "execution_count": 35,
   "metadata": {},
   "outputs": [],
   "source": [
    "import numpy as np\n",
    "import pandas as pd\n",
    "from sklearn.svm import SVC\n",
    "from sklearn.ensemble import GradientBoostingClassifier\n",
    "import xgboost as xgb\n",
    "from sklearn.model_selection import train_test_split\n",
    "from sklearn.preprocessing import OneHotEncoder\n",
    "from sklearn.preprocessing import LabelEncoder, StandardScaler\n",
    "from sklearn.metrics import classification_report,accuracy_score"
   ]
  },
  {
   "cell_type": "code",
   "execution_count": 36,
   "metadata": {},
   "outputs": [],
   "source": [
    "df = pd.read_csv(\"crop_data2.csv\")"
   ]
  },
  {
   "cell_type": "code",
   "execution_count": 37,
   "metadata": {},
   "outputs": [],
   "source": [
    "# Convert categorical variables to numerical using Label Encoding\n",
    "crops_label_encoder = LabelEncoder()\n",
    "df['CROPS'] = crops_label_encoder.fit_transform(df['CROPS'])\n",
    "soil_label_encoder = LabelEncoder()\n",
    "df['SOIL'] = soil_label_encoder.fit_transform(df['SOIL'])\n",
    "type_of_crop_label_encoder = LabelEncoder()\n",
    "df['TYPE_OF_CROP'] = type_of_crop_label_encoder.fit_transform(df['TYPE_OF_CROP'])\n",
    "season_label_encoder = LabelEncoder()\n",
    "df['SEASON'] = season_label_encoder.fit_transform(df['SEASON'])\n",
    "sown_label_encoder = LabelEncoder()\n",
    "df['SOWN'] = sown_label_encoder.fit_transform(df['SOWN'])\n",
    "harvested_label_encoder = LabelEncoder()\n",
    "df['HARVESTED'] = harvested_label_encoder.fit_transform(df['HARVESTED'])\n",
    "watersource_label_encoder = LabelEncoder()\n",
    "df['WATERSOURCE'] = watersource_label_encoder.fit_transform(df['WATERSOURCE'])"
   ]
  },
  {
   "cell_type": "code",
   "execution_count": 38,
   "metadata": {},
   "outputs": [],
   "source": [
    "# Split the data into features (X) and target (y)\n",
    "# X = df.drop(['CROPS','TYPE_OF_CROP','SEASON','SOWN','HARVESTED','SOIL'], axis=1)\n",
    "X = df.drop(['CROPS'], axis=1)\n",
    "y = df['CROPS']"
   ]
  },
  {
   "cell_type": "code",
   "execution_count": 39,
   "metadata": {},
   "outputs": [],
   "source": [
    "# Split the data into training and testing sets\n",
    "X_train, X_test, y_train, y_test = train_test_split(X, y, test_size=0.2, random_state=42)"
   ]
  },
  {
   "cell_type": "code",
   "execution_count": 40,
   "metadata": {},
   "outputs": [],
   "source": [
    "# Standardize the features\n",
    "scaler = StandardScaler()\n",
    "X_train_scaled = scaler.fit_transform(X_train)\n",
    "X_test_scaled = scaler.transform(X_test)"
   ]
  },
  {
   "cell_type": "code",
   "execution_count": 41,
   "metadata": {},
   "outputs": [
    {
     "name": "stdout",
     "output_type": "stream",
     "text": [
      "SVM Accuracy: 1.0\n"
     ]
    }
   ],
   "source": [
    "svm_model = SVC(kernel='linear', C=1.0, probability=True)\n",
    "svm_model.fit(X_train_scaled, y_train)\n",
    "svm_predictions = svm_model.predict(X_test_scaled)\n",
    "svm_accuracy = accuracy_score(y_test, svm_predictions)\n",
    "print(f\"SVM Accuracy: {svm_accuracy}\")\n"
   ]
  },
  {
   "cell_type": "code",
   "execution_count": 42,
   "metadata": {},
   "outputs": [
    {
     "name": "stdout",
     "output_type": "stream",
     "text": [
      "Gradient Boosting Accuracy: 0.998\n"
     ]
    }
   ],
   "source": [
    "# gb_model = GradientBoostingClassifier(n_estimators=100, learning_rate=0.1, max_depth=3, random_state=42)\n",
    "gb_model = xgb.XGBClassifier(objective='multi:softmax')#, num_class=num_classes)\n",
    "gb_model.fit(X_train, y_train)\n",
    "gb_model.fit(X_train, y_train)\n",
    "gb_predictions = gb_model.predict(X_test)\n",
    "gb_accuracy = accuracy_score(y_test, gb_predictions)\n",
    "print(f\"Gradient Boosting Accuracy: {gb_accuracy}\")"
   ]
  },
  {
   "cell_type": "code",
   "execution_count": 43,
   "metadata": {},
   "outputs": [
    {
     "name": "stdout",
     "output_type": "stream",
     "text": [
      "Ensemble Accuracy: 1.0\n"
     ]
    }
   ],
   "source": [
    "from sklearn.ensemble import VotingClassifier\n",
    "\n",
    "# Create a VotingClassifier with SVM and Gradient Boosting\n",
    "ensemble_model = VotingClassifier(estimators=[\n",
    "    ('svm', svm_model),\n",
    "    ('gb', gb_model)\n",
    "], voting='soft')  # Use 'soft' voting for probability-based predictions\n",
    "\n",
    "ensemble_model.fit(X_train_scaled, y_train)\n",
    "ensemble_predictions = ensemble_model.predict(X_test_scaled)\n",
    "ensemble_accuracy = accuracy_score(y_test, ensemble_predictions)\n",
    "print(f\"Ensemble Accuracy: {ensemble_accuracy}\")\n"
   ]
  },
  {
   "cell_type": "code",
   "execution_count": 44,
   "metadata": {},
   "outputs": [
    {
     "name": "stdout",
     "output_type": "stream",
     "text": [
      "Stacking Accuracy: 1.0\n"
     ]
    }
   ],
   "source": [
    "from sklearn.ensemble import StackingClassifier\n",
    "from sklearn.linear_model import LogisticRegression\n",
    "\n",
    "# Create a stacking ensemble with SVM, Gradient Boosting, and Logistic Regression as the meta-model\n",
    "estimators = [\n",
    "    ('svm', svm_model),\n",
    "    ('gb', gb_model)\n",
    "]\n",
    "\n",
    "stacking_model = StackingClassifier(estimators=estimators, final_estimator=LogisticRegression())\n",
    "stacking_model.fit(X_train_scaled, y_train)\n",
    "stacking_predictions = stacking_model.predict(X_test_scaled)\n",
    "stacking_accuracy = accuracy_score(y_test, stacking_predictions)\n",
    "print(f\"Stacking Accuracy: {stacking_accuracy}\")\n"
   ]
  }
 ],
 "metadata": {
  "kernelspec": {
   "display_name": "base",
   "language": "python",
   "name": "python3"
  },
  "language_info": {
   "codemirror_mode": {
    "name": "ipython",
    "version": 3
   },
   "file_extension": ".py",
   "mimetype": "text/x-python",
   "name": "python",
   "nbconvert_exporter": "python",
   "pygments_lexer": "ipython3",
   "version": "3.9.7"
  },
  "orig_nbformat": 4
 },
 "nbformat": 4,
 "nbformat_minor": 2
}
