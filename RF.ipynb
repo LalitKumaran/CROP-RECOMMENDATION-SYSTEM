{
 "cells": [
  {
   "cell_type": "code",
   "execution_count": 12,
   "metadata": {},
   "outputs": [],
   "source": [
    "# Import the necessary libraries\n",
    "import numpy as np \n",
    "import pandas as pd\n",
    "from sklearn.ensemble import RandomForestClassifier\n",
    "from sklearn.model_selection import train_test_split\n",
    "from sklearn.preprocessing import LabelEncoder\n",
    "from sklearn.metrics import accuracy_score, classification_report"
   ]
  },
  {
   "cell_type": "code",
   "execution_count": 13,
   "metadata": {},
   "outputs": [],
   "source": [
    "df = pd.read_csv(\"crop_data2.csv\")"
   ]
  },
  {
   "cell_type": "code",
   "execution_count": 14,
   "metadata": {},
   "outputs": [],
   "source": [
    "label_encoder = LabelEncoder()\n",
    "df['CROPS'] = label_encoder.fit_transform(df['CROPS'])\n",
    "df['SOIL'] = label_encoder.fit_transform(df['SOIL'])\n",
    "df['TYPE_OF_CROP'] = label_encoder.fit_transform(df['TYPE_OF_CROP'])\n",
    "df['SEASON'] = label_encoder.fit_transform(df['SEASON'])\n",
    "df['SOWN'] = label_encoder.fit_transform(df['SOWN'])\n",
    "df['HARVESTED'] = label_encoder.fit_transform(df['HARVESTED'])\n",
    "df['WATERSOURCE'] = label_encoder.fit_transform(df['WATERSOURCE'])"
   ]
  },
  {
   "cell_type": "code",
   "execution_count": 15,
   "metadata": {},
   "outputs": [],
   "source": [
    "X = df.drop(['CROPS'], axis=1)\n",
    "y = df['CROPS']"
   ]
  },
  {
   "cell_type": "code",
   "execution_count": 16,
   "metadata": {},
   "outputs": [],
   "source": [
    "X_train, X_test, y_train, y_test = train_test_split(X, y, test_size=0.3, random_state=42)"
   ]
  },
  {
   "cell_type": "code",
   "execution_count": 17,
   "metadata": {},
   "outputs": [
    {
     "name": "stdout",
     "output_type": "stream",
     "text": [
      "Accuracy: 1.00\n",
      "              precision    recall  f1-score   support\n",
      "\n",
      "           0       1.00      1.00      1.00        39\n",
      "           1       1.00      1.00      1.00        30\n",
      "           2       1.00      1.00      1.00        25\n",
      "           3       1.00      1.00      1.00        28\n",
      "           4       1.00      1.00      1.00        26\n",
      "           5       1.00      1.00      1.00        30\n",
      "           6       1.00      1.00      1.00        33\n",
      "           7       1.00      1.00      1.00        29\n",
      "           8       1.00      1.00      1.00        37\n",
      "           9       1.00      1.00      1.00        26\n",
      "          10       1.00      1.00      1.00        36\n",
      "          11       1.00      1.00      1.00        38\n",
      "          12       1.00      1.00      1.00        30\n",
      "          13       1.00      1.00      1.00        26\n",
      "          14       1.00      1.00      1.00        28\n",
      "          15       1.00      1.00      1.00        22\n",
      "          16       1.00      1.00      1.00        24\n",
      "          17       1.00      1.00      1.00        28\n",
      "          18       1.00      1.00      1.00        27\n",
      "          19       1.00      1.00      1.00        30\n",
      "          20       1.00      1.00      1.00        25\n",
      "          21       1.00      1.00      1.00        44\n",
      "          22       1.00      1.00      1.00        32\n",
      "          23       1.00      1.00      1.00        26\n",
      "          24       1.00      1.00      1.00        31\n",
      "\n",
      "    accuracy                           1.00       750\n",
      "   macro avg       1.00      1.00      1.00       750\n",
      "weighted avg       1.00      1.00      1.00       750\n",
      "\n"
     ]
    }
   ],
   "source": [
    "# Create a Random Forest classifier\n",
    "clf = RandomForestClassifier(n_estimators=100, random_state=42)\n",
    "\n",
    "# Train the classifier on the training data\n",
    "clf.fit(X_train, y_train)\n",
    "\n",
    "# Make predictions on the test data\n",
    "y_pred = clf.predict(X_test)\n",
    "\n",
    "# Evaluate the classifier's performance\n",
    "accuracy = accuracy_score(y_test, y_pred)\n",
    "print(f\"Accuracy: {accuracy:.2f}\")\n",
    "\n",
    "# Print a classification report for more detailed metrics\n",
    "print(classification_report(y_test, y_pred))\n"
   ]
  }
 ],
 "metadata": {
  "kernelspec": {
   "display_name": "base",
   "language": "python",
   "name": "python3"
  },
  "language_info": {
   "codemirror_mode": {
    "name": "ipython",
    "version": 3
   },
   "file_extension": ".py",
   "mimetype": "text/x-python",
   "name": "python",
   "nbconvert_exporter": "python",
   "pygments_lexer": "ipython3",
   "version": "3.9.7"
  },
  "orig_nbformat": 4
 },
 "nbformat": 4,
 "nbformat_minor": 2
}
