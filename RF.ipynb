{
 "cells": [
  {
   "cell_type": "code",
   "execution_count": 615,
   "metadata": {},
   "outputs": [],
   "source": [
    "# Import the necessary libraries\n",
    "import numpy as np \n",
    "import pandas as pd\n",
    "from sklearn.ensemble import RandomForestClassifier\n",
    "from sklearn.model_selection import train_test_split\n",
    "from sklearn.preprocessing import LabelEncoder,OneHotEncoder\n",
    "from sklearn.metrics import accuracy_score, classification_report"
   ]
  },
  {
   "cell_type": "code",
   "execution_count": 616,
   "metadata": {},
   "outputs": [],
   "source": [
    "df = pd.read_csv(\"crop_data2.csv\")\n",
    "df_test = pd.read_csv(\"test_data.csv\")"
   ]
  },
  {
   "cell_type": "code",
   "execution_count": 617,
   "metadata": {},
   "outputs": [],
   "source": [
    "df_test\n",
    "crops_label_encoder = LabelEncoder()\n",
    "df_test['CROPS'] = crops_label_encoder.fit_transform(df_test['CROPS'])\n",
    "soil_label_encoder = LabelEncoder()\n",
    "df_test['SOIL'] = soil_label_encoder.fit_transform(df_test['SOIL'])\n",
    "type_of_crop_label_encoder = LabelEncoder()\n",
    "df_test['TYPE_OF_CROP'] = type_of_crop_label_encoder.fit_transform(df_test['TYPE_OF_CROP'])\n",
    "season_label_encoder = LabelEncoder()\n",
    "df_test['SEASON'] = season_label_encoder.fit_transform(df_test['SEASON'])\n",
    "sown_label_encoder = LabelEncoder()\n",
    "df_test['SOWN'] = sown_label_encoder.fit_transform(df_test['SOWN'])\n",
    "harvested_label_encoder = LabelEncoder()\n",
    "df_test['HARVESTED'] = harvested_label_encoder.fit_transform(df_test['HARVESTED'])\n",
    "watersource_label_encoder = LabelEncoder()\n",
    "df_test['WATERSOURCE'] = watersource_label_encoder.fit_transform(df_test['WATERSOURCE'])"
   ]
  },
  {
   "cell_type": "code",
   "execution_count": 618,
   "metadata": {},
   "outputs": [],
   "source": [
    "crops_label_encoder = LabelEncoder()\n",
    "df['CROPS'] = crops_label_encoder.fit_transform(df['CROPS'])\n",
    "soil_label_encoder = LabelEncoder()\n",
    "df['SOIL'] = soil_label_encoder.fit_transform(df['SOIL'])\n",
    "type_of_crop_label_encoder = LabelEncoder()\n",
    "df['TYPE_OF_CROP'] = type_of_crop_label_encoder.fit_transform(df['TYPE_OF_CROP'])\n",
    "season_label_encoder = LabelEncoder()\n",
    "df['SEASON'] = season_label_encoder.fit_transform(df['SEASON'])\n",
    "sown_label_encoder = LabelEncoder()\n",
    "df['SOWN'] = sown_label_encoder.fit_transform(df['SOWN'])\n",
    "harvested_label_encoder = LabelEncoder()\n",
    "df['HARVESTED'] = harvested_label_encoder.fit_transform(df['HARVESTED'])\n",
    "watersource_label_encoder = LabelEncoder()\n",
    "df['WATERSOURCE'] = watersource_label_encoder.fit_transform(df['WATERSOURCE'])"
   ]
  },
  {
   "cell_type": "code",
   "execution_count": 619,
   "metadata": {},
   "outputs": [],
   "source": [
    "# onehot_encoder = OneHotEncoder(handle_unknown='ignore', sparse=False)\n",
    "# df['CROPS'] = onehot_encoder.fit_transform(df['CROPS'].to_numpy().reshape(-1,1))\n",
    "# df['SOIL'] = onehot_encoder.fit_transform(df['SOIL'].to_numpy().reshape(-1,1))\n",
    "# df['TYPE_OF_CROP'] = onehot_encoder.fit_transform(df['TYPE_OF_CROP'].to_numpy().reshape(-1,1))\n",
    "# df['SEASON'] = onehot_encoder.fit_transform(df['SEASON'].to_numpy().reshape(-1,1))\n",
    "# df['SOWN'] = onehot_encoder.fit_transform(df['SOWN'].to_numpy().reshape(-1,1))\n",
    "# df['HARVESTED'] = onehot_encoder.fit_transform(df['HARVESTED'].to_numpy().reshape(-1,1))\n",
    "# df['WATERSOURCE'] = onehot_encoder.fit_transform(df['WATERSOURCE'].to_numpy().reshape(-1,1))"
   ]
  },
  {
   "cell_type": "code",
   "execution_count": 620,
   "metadata": {},
   "outputs": [],
   "source": [
    "X = df.drop(['CROPS','TYPE_OF_CROP','SEASON','SOWN','HARVESTED','SOIL','WATERSOURCE'], axis=1)\n",
    "# X = df.drop(['CROPS'], axis=1)\n",
    "y = df['CROPS']"
   ]
  },
  {
   "cell_type": "code",
   "execution_count": 621,
   "metadata": {},
   "outputs": [],
   "source": [
    "# X_train, X_test, y_train, y_test = train_test_split(X, y, test_size=0.3, random_state=None)"
   ]
  },
  {
   "cell_type": "code",
   "execution_count": 622,
   "metadata": {},
   "outputs": [],
   "source": [
    "X_train,X_test,y_train,y_test=df.drop(['CROPS'],axis=1),df_test.drop(['CROPS'],axis=1),df['CROPS'],df_test['CROPS']"
   ]
  },
  {
   "cell_type": "code",
   "execution_count": 623,
   "metadata": {},
   "outputs": [],
   "source": [
    "# Create a Random Forest classifier\n",
    "clf = RandomForestClassifier(n_estimators=100, random_state=42)\n",
    "\n",
    "# Train the classifier on the training data\n",
    "clf.fit(X_train, y_train)\n",
    "\n",
    "# Make predictions on the test data\n",
    "y_pred = clf.predict(X_test)"
   ]
  },
  {
   "cell_type": "code",
   "execution_count": 624,
   "metadata": {},
   "outputs": [
    {
     "data": {
      "text/plain": [
       "array(['samai', 'samai', 'samai', 'samai', 'samai', 'wheat', 'wheat',\n",
       "       'wheat', 'wheat', 'wheat'], dtype=object)"
      ]
     },
     "execution_count": 624,
     "metadata": {},
     "output_type": "execute_result"
    }
   ],
   "source": [
    "crops_label_encoder.inverse_transform(y_test[:10])"
   ]
  },
  {
   "cell_type": "code",
   "execution_count": 625,
   "metadata": {},
   "outputs": [
    {
     "data": {
      "text/plain": [
       "array(['rice', 'rice', 'rice', 'rice', 'rice', 'wheat', 'wheat', 'wheat',\n",
       "       'wheat', 'wheat'], dtype=object)"
      ]
     },
     "execution_count": 625,
     "metadata": {},
     "output_type": "execute_result"
    }
   ],
   "source": [
    "crops_label_encoder.inverse_transform(y_pred[:10])"
   ]
  },
  {
   "cell_type": "code",
   "execution_count": 626,
   "metadata": {},
   "outputs": [
    {
     "name": "stdout",
     "output_type": "stream",
     "text": [
      "Accuracy: 0.42\n",
      "              precision    recall  f1-score   support\n",
      "\n",
      "           0       1.00      0.80      0.89         5\n",
      "           1       1.00      1.00      1.00         5\n",
      "           2       1.00      1.00      1.00         5\n",
      "           3       1.00      1.00      1.00         5\n",
      "           4       1.00      1.00      1.00         5\n",
      "           5       1.00      1.00      1.00         5\n",
      "           6       0.00      0.00      0.00         5\n",
      "           7       0.00      0.00      0.00         5\n",
      "           8       0.00      0.00      0.00         5\n",
      "           9       0.00      0.00      0.00         5\n",
      "          10       0.00      0.00      0.00         5\n",
      "          11       0.00      0.00      0.00         5\n",
      "          12       0.00      0.00      0.00         5\n",
      "          13       0.00      0.00      0.00         5\n",
      "          14       0.00      0.00      0.00         5\n",
      "          15       0.00      0.00      0.00         5\n",
      "          16       0.00      0.00      0.00         5\n",
      "          17       0.00      0.00      0.00         5\n",
      "          18       0.00      0.00      0.00         5\n",
      "          19       0.00      0.00      0.00         5\n",
      "          20       1.00      1.00      1.00         5\n",
      "          21       0.44      0.80      0.57         5\n",
      "          22       1.00      0.80      0.89         5\n",
      "          23       1.00      1.00      1.00         5\n",
      "          24       1.00      1.00      1.00         5\n",
      "\n",
      "    accuracy                           0.42       125\n",
      "   macro avg       0.42      0.42      0.41       125\n",
      "weighted avg       0.42      0.42      0.41       125\n",
      "\n"
     ]
    },
    {
     "name": "stderr",
     "output_type": "stream",
     "text": [
      "c:\\Users\\lalit\\anaconda3\\lib\\site-packages\\sklearn\\metrics\\_classification.py:1248: UndefinedMetricWarning: Precision and F-score are ill-defined and being set to 0.0 in labels with no predicted samples. Use `zero_division` parameter to control this behavior.\n",
      "  _warn_prf(average, modifier, msg_start, len(result))\n",
      "c:\\Users\\lalit\\anaconda3\\lib\\site-packages\\sklearn\\metrics\\_classification.py:1248: UndefinedMetricWarning: Precision and F-score are ill-defined and being set to 0.0 in labels with no predicted samples. Use `zero_division` parameter to control this behavior.\n",
      "  _warn_prf(average, modifier, msg_start, len(result))\n",
      "c:\\Users\\lalit\\anaconda3\\lib\\site-packages\\sklearn\\metrics\\_classification.py:1248: UndefinedMetricWarning: Precision and F-score are ill-defined and being set to 0.0 in labels with no predicted samples. Use `zero_division` parameter to control this behavior.\n",
      "  _warn_prf(average, modifier, msg_start, len(result))\n"
     ]
    }
   ],
   "source": [
    "\n",
    "\n",
    "# Evaluate the classifier's performance\n",
    "accuracy = accuracy_score(y_test, y_pred)\n",
    "print(f\"Accuracy: {accuracy:.2f}\")\n",
    "\n",
    "# Print a classification report for more detailed metrics\n",
    "print(classification_report(y_test, y_pred))\n"
   ]
  }
 ],
 "metadata": {
  "kernelspec": {
   "display_name": "base",
   "language": "python",
   "name": "python3"
  },
  "language_info": {
   "codemirror_mode": {
    "name": "ipython",
    "version": 3
   },
   "file_extension": ".py",
   "mimetype": "text/x-python",
   "name": "python",
   "nbconvert_exporter": "python",
   "pygments_lexer": "ipython3",
   "version": "3.9.7"
  },
  "orig_nbformat": 4
 },
 "nbformat": 4,
 "nbformat_minor": 2
}
